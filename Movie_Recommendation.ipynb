{
  "nbformat": 4,
  "nbformat_minor": 0,
  "metadata": {
    "colab": {
      "provenance": [],
      "gpuType": "T4",
      "authorship_tag": "ABX9TyMT/PjdS3ZGGca/pQHbkvOs",
      "include_colab_link": true
    },
    "kernelspec": {
      "name": "python3",
      "display_name": "Python 3"
    },
    "language_info": {
      "name": "python"
    },
    "accelerator": "GPU"
  },
  "cells": [
    {
      "cell_type": "markdown",
      "metadata": {
        "id": "view-in-github",
        "colab_type": "text"
      },
      "source": [
        "<a href=\"https://colab.research.google.com/github/DCampos22/Movie-Recommendation/blob/main/Movie_Recommendation.ipynb\" target=\"_parent\"><img src=\"https://colab.research.google.com/assets/colab-badge.svg\" alt=\"Open In Colab\"/></a>"
      ]
    },
    {
      "cell_type": "markdown",
      "source": [
        "# 🎬 **Explore the AI Movie Recommendation System** 🍿\n",
        "\n",
        "---\n",
        "\n",
        "\n",
        "\n"
      ],
      "metadata": {
        "id": "hNVkz5SJtgkA"
      }
    },
    {
      "cell_type": "markdown",
      "source": [
        "📚 **Imported Libraries and Modules**\n",
        "\n",
        "Importing necessary libraries and modules for various functionalities.\n"
      ],
      "metadata": {
        "id": "5hvsuv49unl8"
      }
    },
    {
      "cell_type": "code",
      "execution_count": 1,
      "metadata": {
        "id": "jq-3J4ajO6PT"
      },
      "outputs": [],
      "source": [
        "import pandas as pd\n",
        "import json\n",
        "import os\n",
        "import random\n",
        "#import torch\n",
        "import google.generativeai as genai\n",
        "from IPython.display import display, HTML, Markdown\n",
        "from google.colab import userdata\n",
        "from typing import List\n",
        "from dataclasses import dataclass\n",
        "#from sentence_transformers import SentenceTransformer, util"
      ]
    },
    {
      "cell_type": "markdown",
      "source": [
        "📩 **Message Class**\n",
        "Represents a message with a sender and content.\n",
        "\n",
        "- **Attributes**:\n",
        "  - `sender`: A string indicating the sender of the message.\n",
        "  - `content`: A list of strings representing the content of the message.\n",
        "\n",
        "- **Methods**:\n",
        "  - `to_dict()`: Converts the message object to a dictionary format.\n",
        "  - `from_dict(data)`: Constructs a message object from a dictionary.\n"
      ],
      "metadata": {
        "id": "n7wcuXbKveDX"
      }
    },
    {
      "cell_type": "code",
      "source": [
        "class Message:\n",
        "    def __init__(self, sender: str = None, content: List[str] = None):\n",
        "        self.sender = sender\n",
        "        self.content = content\n",
        "\n",
        "    def to_dict(self):\n",
        "        return {\n",
        "            \"sender\": self.sender,\n",
        "            \"content\": self.content\n",
        "        }\n",
        "\n",
        "    @classmethod\n",
        "    def from_dict(cls, data):\n",
        "        return cls(sender=data.get('sender'),\n",
        "                   content=data.get('content'))"
      ],
      "metadata": {
        "id": "wpNNvG3rPGhg"
      },
      "execution_count": 2,
      "outputs": []
    },
    {
      "cell_type": "markdown",
      "source": [
        "🤖 **AI Class**\n",
        "Represents an AI system for recommending movies and engaging in conversation.\n",
        "\n",
        "- **Attributes**:\n",
        "  - `movies_df`: DataFrame containing movie data loaded from a CSV file.\n",
        "  - `GOOGLE_API_KEY`: Google API key retrieved from user data.\n",
        "  - `model`: Generative AI model for chat interactions.\n",
        "  - `chat`: Chat instance initiated with the AI model.\n",
        "\n",
        "- **Methods**:\n",
        "  - `get_random_rows()`: Retrieves a random sample of movie data.\n",
        "  - `display_random_movies(random_10_rows)`: Displays information about randomly selected movies.\n",
        "  - `send_message(text)`: Sends a message to the user.\n",
        "  - `genre_col()`: Classifies movie genres based on keywords in summaries.\n",
        "  - `save_chat_history(messages)`: Saves the chat history to a JSON file.\n",
        "  - `display_messages(messages)`: Displays conversation messages with visual styling.\n",
        "  - `main()`: Main function to execute the movie recommendation system and conversation loop.\n"
      ],
      "metadata": {
        "id": "PUc91JhCwPFL"
      }
    },
    {
      "cell_type": "code",
      "source": [
        "class AI:\n",
        "    def __init__(self):\n",
        "        self.movies_df = pd.read_csv('/content/archive (2) (2).zip')\n",
        "        self.GOOGLE_API_KEY = userdata.get('GOOGLE_API_KEY')\n",
        "        if self.GOOGLE_API_KEY is None:\n",
        "            print(\"Error: API key not found. Please set the GOOGLE_API_KEY environment variable.\")\n",
        "            return\n",
        "        genai.configure(api_key=self.GOOGLE_API_KEY)\n",
        "        self.model = genai.GenerativeModel('gemini-pro')\n",
        "        self.chat = self.model.start_chat(history=[])\n",
        "\n",
        "    def get_random_rows(self):\n",
        "        return self.movies_df.sample(n=20)\n",
        "\n",
        "    def display_random_movies(self, random_10_rows):\n",
        "        movie_info_list = []\n",
        "        for index, row in random_10_rows.iterrows():\n",
        "          if row['Genre'] != 'Unknown':\n",
        "            movie_info = f\"{index + 1}. Movie: {row['Title']} ({row['Year']})\\nGenre: {row['Genre']}\\nSummary: {row['Summary']}\\n\"\n",
        "            movie_info_list.append(movie_info)\n",
        "        return '\\n'.join(movie_info_list)\n",
        "\n",
        "    def send_message(self, text):\n",
        "        print(text)\n",
        "\n",
        "    def genre_col(self):\n",
        "        # Define keywords for each genre\n",
        "        action_keywords = ['action', 'adventure', 'fight', 'battle']\n",
        "        romance_keywords = ['romance', 'love', 'relationship']\n",
        "        comedy_keywords = ['comedy', 'funny', 'humor']\n",
        "        drama_keywords = ['drama', 'emotional', 'heartfelt']\n",
        "        thriller_keywords = ['thriller', 'suspense', 'mystery', 'intense']\n",
        "\n",
        "        # Initialize 'Genre' column with 'Unknown'\n",
        "        self.movies_df['Genre'] = 'Unknown'\n",
        "\n",
        "        # Iterate through each row and update the 'Genre' column based on keywords in 'Summary'\n",
        "        for index, row in self.movies_df.iterrows():\n",
        "            summary = str(row['Summary']).lower()\n",
        "\n",
        "            if any(keyword in summary for keyword in action_keywords):\n",
        "                self.movies_df.at[index, 'Genre'] = 'Action'\n",
        "            elif any(keyword in summary for keyword in romance_keywords):\n",
        "                self.movies_df.at[index, 'Genre'] = 'Romance'\n",
        "            elif any(keyword in summary for keyword in comedy_keywords):\n",
        "                self.movies_df.at[index, 'Genre'] = 'Comedy'\n",
        "            elif any(keyword in summary for keyword in drama_keywords):\n",
        "                self.movies_df.at[index, 'Genre'] = 'Drama'\n",
        "            elif any(keyword in summary for keyword in thriller_keywords):\n",
        "                self.movies_df.at[index, 'Genre'] = 'Thriller'\n",
        "\n",
        "\n",
        "    def save_chat_history(self, messages):\n",
        "        # Initialize an empty list to store the chat history\n",
        "        chat_history_json = []\n",
        "\n",
        "        # Iterate over each message in the chat history\n",
        "        for message in messages:\n",
        "            # Create a dictionary representing the message\n",
        "            message_dict = {\n",
        "                \"role\": message[\"role\"],\n",
        "                \"text\": message[\"parts\"][0]\n",
        "            }\n",
        "            # Append the message dictionary to the chat history list\n",
        "            chat_history_json.append(message_dict)\n",
        "\n",
        "        # Convert the chat history list to JSON format\n",
        "        chat_history_json_str = json.dumps(chat_history_json)\n",
        "\n",
        "        # Write the JSON string to a file\n",
        "        with open('chat_history.json', 'w') as f:\n",
        "            f.write(chat_history_json_str)\n",
        "\n",
        "        # Download the file\n",
        "        from google.colab import files\n",
        "        files.download('chat_history.json')\n",
        "\n",
        "    # Function to display conversation messages with visual styling\n",
        "    def display_messages(self, messages):\n",
        "        bubble_style = \"\"\"\n",
        "        <style>\n",
        "            .message {\n",
        "                max-width: 60%;\n",
        "                margin: 5px;\n",
        "                padding: 10px;\n",
        "                border-radius: 20px;\n",
        "            }\n",
        "            .sender {\n",
        "                background-color: #007aff;\n",
        "                color: white;\n",
        "                margin-left: auto;\n",
        "                margin-right: 0;\n",
        "            }\n",
        "            .receiver {\n",
        "                background-color: #e5e5ea;\n",
        "                color: black;\n",
        "                margin-left: 0;\n",
        "                margin-right: auto;\n",
        "            }\n",
        "        </style>\n",
        "        \"\"\"\n",
        "\n",
        "        html_str = \"<div>\"\n",
        "\n",
        "        for msg in messages:\n",
        "            content = msg[\"parts\"][0][\"text\"].replace('**', '')\n",
        "            if msg[\"role\"] == \"user\":\n",
        "                bubble_class = \"sender\"\n",
        "            else:\n",
        "                bubble_class = \"receiver\"\n",
        "\n",
        "            html_str += f'<div class=\"message {bubble_class}\">{content}</div>'\n",
        "\n",
        "        html_str += \"</div>\"\n",
        "        html_str += bubble_style\n",
        "\n",
        "        display(HTML(html_str))\n",
        "\n",
        "\n",
        "\n",
        "    def main(self):\n",
        "        self.genre_col()\n",
        "        random_10_rows = self.get_random_rows()\n",
        "        data = self.display_random_movies(random_10_rows)\n",
        "        print(data)\n",
        "\n",
        "        # Initial system instructions\n",
        "        system_instructions = f\"\"\"\n",
        "        Please help me in recommending movies.\n",
        "        Those are the movies we know about\n",
        "\n",
        "        {data}\n",
        "\n",
        "        Critical instructions:\n",
        "        - Considering the themes, genres, and narratives of the movies listed above, please recommend movies that share similar qualities, you can only recommend movies that are in the above list.\n",
        "        - While recommending movies, make sure to be brief and to ask further questions to give the best recommendations\n",
        "\n",
        "        \"\"\"\n",
        "\n",
        "        # Model to greets the user to start conversation\n",
        "        model_message = {'role': 'assistant', 'parts': [{'text': \"Hello, I recommend movies from the list above, how can I help you?\"}]}\n",
        "        self.display_messages([model_message])\n",
        "\n",
        "        while True:\n",
        "          messages = []\n",
        "\n",
        "\n",
        "\n",
        "          # Get user input\n",
        "          user_input = input(\"User: \")\n",
        "\n",
        "          # Prepare user message for display\n",
        "          user_message = {'role': 'user', 'parts': [{'text': user_input}]}\n",
        "          # Add user message to messages list for the model\n",
        "          messages.append({'role': 'user', 'parts': [{'text': system_instructions}, {'text': user_input}]})\n",
        "\n",
        "\n",
        "          # Display user message\n",
        "          self.display_messages([user_message])\n",
        "\n",
        "          # Check if the user wants to end the conversation\n",
        "          if user_input.lower() == 'thanks, bye':\n",
        "              farewell_message = {'role': 'assistant', 'parts': [{'text': \"Thank you for using our movie recommendation system. Have a great day!\"}]}\n",
        "              self.display_messages([farewell_message])\n",
        "              break\n",
        "\n",
        "          # Generate model response\n",
        "          response = self.model.generate_content(messages)\n",
        "\n",
        "          # Check if the response is valid and contains parts\n",
        "          if response and hasattr(response, 'parts') and response.parts:\n",
        "              response_text = response.parts[0].text  # properly accessing the text attribute of the first Part object\n",
        "              model_message = {'role': 'assistant', 'parts': [{'text': response_text}]}\n",
        "              # Display model response\n",
        "              self.display_messages([model_message])\n",
        "          else:\n",
        "              print(\"Error: Model response is empty, invalid, or blocked. Please check safety ratings if available.\")\n",
        "              if hasattr(response, 'candidate') and hasattr(response.candidate, 'safety_ratings'):\n",
        "                  print(\"Safety Ratings:\", response.candidate.safety_ratings)\n",
        "              continue  # Skip to the next iteration of the loop\n",
        "\n",
        "          # Optionally save each pair of user and assistant messages if needed\n",
        "          self.save_chat_history(messages)\n"
      ],
      "metadata": {
        "id": "FIiOyIbdPH8J"
      },
      "execution_count": 11,
      "outputs": []
    },
    {
      "cell_type": "markdown",
      "source": [
        "🚀 **Script Entry Point**\n",
        "Entry point of the script to execute the movie recommendation system.\n",
        "\n",
        "- **Functionality**:\n",
        "  - Creates an instance of the `AI` class.\n",
        "  - Calls the `main()` method of the `AI` instance to start the movie recommendation system and conversation loop.\n"
      ],
      "metadata": {
        "id": "iO6mTO4Qwb45"
      }
    },
    {
      "cell_type": "code",
      "source": [
        "if __name__ == \"__main__\":\n",
        "    ai = AI()\n",
        "    ai.main()\n"
      ],
      "metadata": {
        "colab": {
          "base_uri": "https://localhost:8080/",
          "height": 1000
        },
        "id": "SXI1zgDLPdgp",
        "outputId": "300ed45c-ea75-4329-a2eb-cb95ce705805"
      },
      "execution_count": 12,
      "outputs": [
        {
          "output_type": "stream",
          "name": "stdout",
          "text": [
            "2015. Movie: Loosies (2011)\n",
            "Genre: Action\n",
            "Summary: A young pickpocket in the New York subways, living a fast, free, lifestyle is confronted by a woman whom he had a one night affair with, she informs him that she is now pregnant with his child, he must now choose between continuing the lifestyle he lead or take responsibility for his actions.\n",
            "\n",
            "2043. Movie: Legally Blonde (2001)\n",
            "Genre: Action\n",
            "Summary: Elle Woods (Reese Witherspoon) has it all. She's the president of her sorority, a Hawaiian Tropic girl, Miss June in her campus calendar, and, above all, a natural blonde. She dates the cutest fraternity boy on campus and wants nothing more than to be Mrs. Warner Huntington III. But, there's just one thing stopping Warner (Matthew Davis) from popping the question: Elle is too blonde. Growing up across the street from Aaron Spelling might mean something in LA, but nothing to Warner's East-Coast blue blood family. So, when Warner packs up for Harvard Law and reunites with an old sweetheart from prep school, Elle rallies all her resources and gets into Harvard, determined to win him back. But law school is a far cry from the comforts of her poolside and the mall. Elle must wage the battle of her life, for her guy, for herself and for all the blondes who suffer endless indignities everyday.\n",
            "\n",
            "2787. Movie: Priceless (2016)\n",
            "Genre: Romance\n",
            "Summary: PRICELESS is a powerful story of James Stevens who was, at one time, a good man with a great life, but that was then and this is now. After the tragic death of his wife and losing custody of his little girl, James is at the darkest crossroad of his life. Angry, desperate, and unable to hold down a steady job, he agrees to drive a box truck on a shady, one-time trip cross country for cash -- no questions asked. But when he discovers what he is delivering is actually who, he is compelled to save two beautiful and frightened sisters who are unaware of the danger that awaits them. Can love, strength, and faith redefine his past and change the course of his future? This unlikely hero risks it all to save these women, confront the forces that oppose him and ultimately discover the life he was meant to live.\n",
            "\n",
            "2759. Movie: 300 (2006)\n",
            "Genre: Action\n",
            "Summary: In the Battle of Thermopylae of 480 BC an alliance of Greek city-states fought the invading Persian army in the mountain pass of Thermopylae. Vastly outnumbered, the Greeks held back the enemy in one of the most famous last stands of history. Persian King Xerxes led a Army of well over 100,000 (Persian king Xerxes before war has about 170,000 army) men to Greece and was confronted by 300 Spartans, 700 Thespians, and 400 Thebans. Xerxes waited for 10 days for King Leonidas to surrender or withdraw but left with no options he pushed forward. After 3 days of battle all the Greeks were killed. The Spartan defeat was not the one expected, as a local shepherd, named Ephialtes, defected to the Persians and informed Xerxes that the separate path through Thermopylae, which the Persians could use to outflank the Greeks, was not as heavily guarded as they thought.\n",
            "\n",
            "2166. Movie: Identity (2003)\n",
            "Genre: Action\n",
            "Summary: Malcolm Rivers has been convicted as the perpetrator of several murders and is sentenced to death. An eleventh hour defense by his lawyers and psychiatrist that Malcolm is insane based on new evidence has resulted in them meeting with the prosecutors and the judge to discuss if the verdict should be overturned. Meanwhile, on a dark night during a torrential rainstorm in the Nevada desert, a series of chain reaction events results in several people needing to stay at an out of the way motel managed by Larry. They are: ex-cop now limo driver Ed, and his client Caroline, a diva of a once famous actress; quiet adolescent Timmy, his stepfather George, and his mother Alice, who was seriously injured when Ed accidentally ran over her as she watched George change their flat tire; prostitute Paris, who was the unwitting cause of George's flat tire; newlyweds Lou and Ginny, whose marriage is based on a lie; and Police Officer Rhodes, who was en route escorting prisoner Robert to his new ...\n",
            "\n",
            "3104. Movie: 2012 (2009)\n",
            "Genre: Action\n",
            "Summary: Dr. Adrian Helmsley, part of a worldwide geophysical team investigating the effect on the earth of radiation from unprecedented solar storms, learns that the earth's core is heating up. He warns U.S. President Thomas Wilson that the crust of the earth is becoming unstable and that without proper preparations for saving a fraction of the world's population, the entire race is doomed. Meanwhile, writer Jackson Curtis stumbles on the same information. While the world's leaders race to build \"arks\" to escape the impending cataclysm, Curtis struggles to find a way to save his family. Meanwhile, volcanic eruptions and earthquakes of unprecedented strength wreak havoc around the world.\n",
            "\n",
            "1325. Movie: The Notebook (2004)\n",
            "Genre: Romance\n",
            "Summary: In a nursing home, resident Duke reads a romance story to an old woman who has senile dementia with memory loss. In the late 1930s, wealthy seventeen year-old Allie Hamilton is spending summer vacation in Seabrook. Local worker Noah Calhoun meets Allie at a carnival and they soon fall in love with each other. One day, Noah brings Allie to an ancient house that he dreams of buying and restoring and they attempt to make love but get interrupted by their friend. Allie's parents do not approve of their romance since Noah belongs to another social class, and they move to New York with her. Noah writes 365 letters (A Year) to Allie, but her mother Anne Hamilton does not deliver them to her daughter. Three years later, the United States joins the World War II and Noah and his best friend Fin enlist in the army, and Allie works as an army nurse. She meets injured soldier Lon Hammond in the hospital. After the war, they meet each other again going on dates and then, Lon, who is wealthy and ...\n",
            "\n",
            "1381. Movie: The Karate Kid (2010)\n",
            "Genre: Action\n",
            "Summary: 12-year-old Dre Parker has moved to China, and finds himself like a fish out of water. He befriends a fellow classmate, Mei Ying, only to make a rival, Cheng, who starts to bully and attack Dre. Soon, Mr Han, the maintenance man of Dre's apartment, fends off Cheng and his friends when they are attacking Dre and signs Dre up to fight in the Kung Fu tournament in return for the bullies laying off of Dre. Dre realizes Mr. Han is much more than a maintenance man, when he's revealed as a master of Kung Fu and Dre soon learns that Kung Fu is about self defense and peace, instead of violence and bloodshed.\n",
            "\n",
            "2468. Movie: Danny Collins (2015)\n",
            "Genre: Romance\n",
            "Summary: Inspired by a true story, Al Pacino stars as aging 1970s rocker Danny Collins, who can't give up his hard-living ways. But when his manager (Christopher Plummer) uncovers a 40 year-old undelivered letter written to him by John Lennon, he decides to change course and embarks on a heartfelt journey to rediscover his family, find true love and begin a second act.\n",
            "\n",
            "2278. Movie: God Help the Girl (2014)\n",
            "Genre: Drama\n",
            "Summary: Set in Glasgow, Scotland, the film is about a girl called Eve who is in the hospital dealing with some emotional problems and starts writing songs as a way of getting better. Songwriting becomes her way forward, leading her to the City where she meets James and Cassie, two musicians each at crossroads of their own. What follows is a story of renaissance over the course of a long, dream-like Summer.\n",
            "\n",
            "3702. Movie: Okja (2017)\n",
            "Genre: Comedy\n",
            "Summary: For 10 idyllic years, young Mija (An Seo Hyun) has been caretaker and constant companion to Okja-a massive animal and an even bigger friend-at her home in the mountains of South Korea. But that changes when a family-owned multinational conglomerate Mirando Corporation takes Okja for themselves and transports her to New York, where image obsessed and self-promoting CEO Lucy Mirando (Tilda Swinton) has big plans for Mija's dearest friend. With no particular plan but single-minded in intent, Mija sets out on a rescue mission, but her already daunting journey quickly becomes more complicated when she crosses paths with disparate groups of capitalists, demonstrators and consumers, each battling to control the fate of Okja...while all Mija wants to do is bring her friend home. Deftly blending genres, humor, poignancy and drama, Bong Joon Ho (Snowpiercer, The Host) begins with the gentlest of premises-the bond between man and animal-and ultimately creates a distinct and layered vision of the...\n",
            "\n"
          ]
        },
        {
          "output_type": "display_data",
          "data": {
            "text/plain": [
              "<IPython.core.display.HTML object>"
            ],
            "text/html": [
              "<div><div class=\"message receiver\">Hello, I recommend movies from the list above, how can I help you?</div></div>\n",
              "        <style>\n",
              "            .message {\n",
              "                max-width: 60%;\n",
              "                margin: 5px;\n",
              "                padding: 10px;\n",
              "                border-radius: 20px;\n",
              "            }\n",
              "            .sender {\n",
              "                background-color: #007aff;\n",
              "                color: white;\n",
              "                margin-left: auto;\n",
              "                margin-right: 0;\n",
              "            }\n",
              "            .receiver {\n",
              "                background-color: #e5e5ea;\n",
              "                color: black;\n",
              "                margin-left: 0;\n",
              "                margin-right: auto;\n",
              "            }\n",
              "        </style>\n",
              "        "
            ]
          },
          "metadata": {}
        },
        {
          "name": "stdout",
          "output_type": "stream",
          "text": [
            "User: Do you recommend any romance films?\n"
          ]
        },
        {
          "output_type": "display_data",
          "data": {
            "text/plain": [
              "<IPython.core.display.HTML object>"
            ],
            "text/html": [
              "<div><div class=\"message sender\">Do you recommend any romance films?</div></div>\n",
              "        <style>\n",
              "            .message {\n",
              "                max-width: 60%;\n",
              "                margin: 5px;\n",
              "                padding: 10px;\n",
              "                border-radius: 20px;\n",
              "            }\n",
              "            .sender {\n",
              "                background-color: #007aff;\n",
              "                color: white;\n",
              "                margin-left: auto;\n",
              "                margin-right: 0;\n",
              "            }\n",
              "            .receiver {\n",
              "                background-color: #e5e5ea;\n",
              "                color: black;\n",
              "                margin-left: 0;\n",
              "                margin-right: auto;\n",
              "            }\n",
              "        </style>\n",
              "        "
            ]
          },
          "metadata": {}
        },
        {
          "output_type": "display_data",
          "data": {
            "text/plain": [
              "<IPython.core.display.HTML object>"
            ],
            "text/html": [
              "<div><div class=\"message receiver\">Yes, I recommend the following romance films from the list provided:\n",
              "\n",
              "- The Notebook (2004): A classic romantic drama about a wealthy young woman and a poor local worker who fall in love and face challenges from her parents and the war.\n",
              "- Priceless (2016): A powerful story about a man who risks everything to save two beautiful and frightened sisters.\n",
              "- Danny Collins (2015): Inspired by a true story, the film follows an aging 1970s rocker who embarks on a heartfelt journey to rediscover his family, find true love, and begin a second act.\n",
              "\n",
              "Do you have any preferences in terms of genre or specific themes you'd like me to consider for further recommendations?</div></div>\n",
              "        <style>\n",
              "            .message {\n",
              "                max-width: 60%;\n",
              "                margin: 5px;\n",
              "                padding: 10px;\n",
              "                border-radius: 20px;\n",
              "            }\n",
              "            .sender {\n",
              "                background-color: #007aff;\n",
              "                color: white;\n",
              "                margin-left: auto;\n",
              "                margin-right: 0;\n",
              "            }\n",
              "            .receiver {\n",
              "                background-color: #e5e5ea;\n",
              "                color: black;\n",
              "                margin-left: 0;\n",
              "                margin-right: auto;\n",
              "            }\n",
              "        </style>\n",
              "        "
            ]
          },
          "metadata": {}
        },
        {
          "output_type": "display_data",
          "data": {
            "text/plain": [
              "<IPython.core.display.Javascript object>"
            ],
            "application/javascript": [
              "\n",
              "    async function download(id, filename, size) {\n",
              "      if (!google.colab.kernel.accessAllowed) {\n",
              "        return;\n",
              "      }\n",
              "      const div = document.createElement('div');\n",
              "      const label = document.createElement('label');\n",
              "      label.textContent = `Downloading \"${filename}\": `;\n",
              "      div.appendChild(label);\n",
              "      const progress = document.createElement('progress');\n",
              "      progress.max = size;\n",
              "      div.appendChild(progress);\n",
              "      document.body.appendChild(div);\n",
              "\n",
              "      const buffers = [];\n",
              "      let downloaded = 0;\n",
              "\n",
              "      const channel = await google.colab.kernel.comms.open(id);\n",
              "      // Send a message to notify the kernel that we're ready.\n",
              "      channel.send({})\n",
              "\n",
              "      for await (const message of channel.messages) {\n",
              "        // Send a message to notify the kernel that we're ready.\n",
              "        channel.send({})\n",
              "        if (message.buffers) {\n",
              "          for (const buffer of message.buffers) {\n",
              "            buffers.push(buffer);\n",
              "            downloaded += buffer.byteLength;\n",
              "            progress.value = downloaded;\n",
              "          }\n",
              "        }\n",
              "      }\n",
              "      const blob = new Blob(buffers, {type: 'application/binary'});\n",
              "      const a = document.createElement('a');\n",
              "      a.href = window.URL.createObjectURL(blob);\n",
              "      a.download = filename;\n",
              "      div.appendChild(a);\n",
              "      a.click();\n",
              "      div.remove();\n",
              "    }\n",
              "  "
            ]
          },
          "metadata": {}
        },
        {
          "output_type": "display_data",
          "data": {
            "text/plain": [
              "<IPython.core.display.Javascript object>"
            ],
            "application/javascript": [
              "download(\"download_5fb8f304-9cac-434e-8543-a00efbd30bac\", \"chat_history.json\", 9088)"
            ]
          },
          "metadata": {}
        },
        {
          "name": "stdout",
          "output_type": "stream",
          "text": [
            "User: I am also interested in action films\n"
          ]
        },
        {
          "output_type": "display_data",
          "data": {
            "text/plain": [
              "<IPython.core.display.HTML object>"
            ],
            "text/html": [
              "<div><div class=\"message sender\">I am also interested in action films</div></div>\n",
              "        <style>\n",
              "            .message {\n",
              "                max-width: 60%;\n",
              "                margin: 5px;\n",
              "                padding: 10px;\n",
              "                border-radius: 20px;\n",
              "            }\n",
              "            .sender {\n",
              "                background-color: #007aff;\n",
              "                color: white;\n",
              "                margin-left: auto;\n",
              "                margin-right: 0;\n",
              "            }\n",
              "            .receiver {\n",
              "                background-color: #e5e5ea;\n",
              "                color: black;\n",
              "                margin-left: 0;\n",
              "                margin-right: auto;\n",
              "            }\n",
              "        </style>\n",
              "        "
            ]
          },
          "metadata": {}
        },
        {
          "output_type": "display_data",
          "data": {
            "text/plain": [
              "<IPython.core.display.HTML object>"
            ],
            "text/html": [
              "<div><div class=\"message receiver\">Based on your interest in action films, I would recommend the following movies from your list:\n",
              "\n",
              "* 300 (2006): An epic historical action film about the Battle of Thermopylae.\n",
              "* 2012 (2009): A disaster film about the end of the world.\n",
              "* The Karate Kid (2010): A martial arts action film about a young boy who learns karate from a maintenance man.\n",
              "\n",
              "Additional questions to help refine my recommendations:\n",
              "\n",
              "* Do you have a preference for historical action films, disaster films, or martial arts films?\n",
              "* Are there any specific themes or narratives that you find particolarmente engaging in action films?\n",
              "* Are there any other specific action movies that you have enjoyed in the past?</div></div>\n",
              "        <style>\n",
              "            .message {\n",
              "                max-width: 60%;\n",
              "                margin: 5px;\n",
              "                padding: 10px;\n",
              "                border-radius: 20px;\n",
              "            }\n",
              "            .sender {\n",
              "                background-color: #007aff;\n",
              "                color: white;\n",
              "                margin-left: auto;\n",
              "                margin-right: 0;\n",
              "            }\n",
              "            .receiver {\n",
              "                background-color: #e5e5ea;\n",
              "                color: black;\n",
              "                margin-left: 0;\n",
              "                margin-right: auto;\n",
              "            }\n",
              "        </style>\n",
              "        "
            ]
          },
          "metadata": {}
        },
        {
          "output_type": "display_data",
          "data": {
            "text/plain": [
              "<IPython.core.display.Javascript object>"
            ],
            "application/javascript": [
              "\n",
              "    async function download(id, filename, size) {\n",
              "      if (!google.colab.kernel.accessAllowed) {\n",
              "        return;\n",
              "      }\n",
              "      const div = document.createElement('div');\n",
              "      const label = document.createElement('label');\n",
              "      label.textContent = `Downloading \"${filename}\": `;\n",
              "      div.appendChild(label);\n",
              "      const progress = document.createElement('progress');\n",
              "      progress.max = size;\n",
              "      div.appendChild(progress);\n",
              "      document.body.appendChild(div);\n",
              "\n",
              "      const buffers = [];\n",
              "      let downloaded = 0;\n",
              "\n",
              "      const channel = await google.colab.kernel.comms.open(id);\n",
              "      // Send a message to notify the kernel that we're ready.\n",
              "      channel.send({})\n",
              "\n",
              "      for await (const message of channel.messages) {\n",
              "        // Send a message to notify the kernel that we're ready.\n",
              "        channel.send({})\n",
              "        if (message.buffers) {\n",
              "          for (const buffer of message.buffers) {\n",
              "            buffers.push(buffer);\n",
              "            downloaded += buffer.byteLength;\n",
              "            progress.value = downloaded;\n",
              "          }\n",
              "        }\n",
              "      }\n",
              "      const blob = new Blob(buffers, {type: 'application/binary'});\n",
              "      const a = document.createElement('a');\n",
              "      a.href = window.URL.createObjectURL(blob);\n",
              "      a.download = filename;\n",
              "      div.appendChild(a);\n",
              "      a.click();\n",
              "      div.remove();\n",
              "    }\n",
              "  "
            ]
          },
          "metadata": {}
        },
        {
          "output_type": "display_data",
          "data": {
            "text/plain": [
              "<IPython.core.display.Javascript object>"
            ],
            "application/javascript": [
              "download(\"download_e3f9d2f2-e37d-4279-81d7-b1d34e44d802\", \"chat_history.json\", 9088)"
            ]
          },
          "metadata": {}
        },
        {
          "name": "stdout",
          "output_type": "stream",
          "text": [
            "User: thanks, bye\n"
          ]
        },
        {
          "output_type": "display_data",
          "data": {
            "text/plain": [
              "<IPython.core.display.HTML object>"
            ],
            "text/html": [
              "<div><div class=\"message sender\">thanks, bye</div></div>\n",
              "        <style>\n",
              "            .message {\n",
              "                max-width: 60%;\n",
              "                margin: 5px;\n",
              "                padding: 10px;\n",
              "                border-radius: 20px;\n",
              "            }\n",
              "            .sender {\n",
              "                background-color: #007aff;\n",
              "                color: white;\n",
              "                margin-left: auto;\n",
              "                margin-right: 0;\n",
              "            }\n",
              "            .receiver {\n",
              "                background-color: #e5e5ea;\n",
              "                color: black;\n",
              "                margin-left: 0;\n",
              "                margin-right: auto;\n",
              "            }\n",
              "        </style>\n",
              "        "
            ]
          },
          "metadata": {}
        },
        {
          "output_type": "display_data",
          "data": {
            "text/plain": [
              "<IPython.core.display.HTML object>"
            ],
            "text/html": [
              "<div><div class=\"message receiver\">Thank you for using our movie recommendation system. Have a great day!</div></div>\n",
              "        <style>\n",
              "            .message {\n",
              "                max-width: 60%;\n",
              "                margin: 5px;\n",
              "                padding: 10px;\n",
              "                border-radius: 20px;\n",
              "            }\n",
              "            .sender {\n",
              "                background-color: #007aff;\n",
              "                color: white;\n",
              "                margin-left: auto;\n",
              "                margin-right: 0;\n",
              "            }\n",
              "            .receiver {\n",
              "                background-color: #e5e5ea;\n",
              "                color: black;\n",
              "                margin-left: 0;\n",
              "                margin-right: auto;\n",
              "            }\n",
              "        </style>\n",
              "        "
            ]
          },
          "metadata": {}
        }
      ]
    },
    {
      "cell_type": "markdown",
      "source": [
        "![AI_Convo.png](data:image/png;base64,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)"
      ],
      "metadata": {
        "id": "PGKP0JSctKW8"
      }
    }
  ]
}