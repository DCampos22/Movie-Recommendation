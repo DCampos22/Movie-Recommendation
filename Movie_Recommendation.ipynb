{
  "nbformat": 4,
  "nbformat_minor": 0,
  "metadata": {
    "colab": {
      "provenance": [],
      "gpuType": "T4",
      "authorship_tag": "ABX9TyOnGWGjTqKihWDzTHlQvoTS",
      "include_colab_link": true
    },
    "kernelspec": {
      "name": "python3",
      "display_name": "Python 3"
    },
    "language_info": {
      "name": "python"
    },
    "accelerator": "GPU"
  },
  "cells": [
    {
      "cell_type": "markdown",
      "metadata": {
        "id": "view-in-github",
        "colab_type": "text"
      },
      "source": [
        "<a href=\"https://colab.research.google.com/github/DCampos22/Movie-Recommendation/blob/main/Movie_Recommendation.ipynb\" target=\"_parent\"><img src=\"https://colab.research.google.com/assets/colab-badge.svg\" alt=\"Open In Colab\"/></a>"
      ]
    },
    {
      "cell_type": "code",
      "execution_count": 1,
      "metadata": {
        "id": "jq-3J4ajO6PT"
      },
      "outputs": [],
      "source": [
        "import pandas as pd\n",
        "import json\n",
        "import os\n",
        "import random\n",
        "#import torch\n",
        "import google.generativeai as genai\n",
        "from IPython.display import display, HTML, Markdown\n",
        "from google.colab import userdata\n",
        "from typing import List\n",
        "from dataclasses import dataclass\n",
        "#from sentence_transformers import SentenceTransformer, util"
      ]
    },
    {
      "cell_type": "code",
      "source": [
        "class Message:\n",
        "    def __init__(self, sender: str = None, content: List[str] = None):\n",
        "        self.sender = sender\n",
        "        self.content = content\n",
        "\n",
        "    def to_dict(self):\n",
        "        return {\n",
        "            \"sender\": self.sender,\n",
        "            \"content\": self.content\n",
        "        }\n",
        "\n",
        "    @classmethod\n",
        "    def from_dict(cls, data):\n",
        "        return cls(sender=data.get('sender'),\n",
        "                   content=data.get('content'))"
      ],
      "metadata": {
        "id": "wpNNvG3rPGhg"
      },
      "execution_count": 7,
      "outputs": []
    },
    {
      "cell_type": "code",
      "source": [
        "class AI:\n",
        "    def __init__(self):\n",
        "        self.movies_df = pd.read_csv('/content/archive (2) (2).zip')\n",
        "        self.GOOGLE_API_KEY = userdata.get('GOOGLE_API_KEY')\n",
        "        if self.GOOGLE_API_KEY is None:\n",
        "            print(\"Error: API key not found. Please set the GOOGLE_API_KEY environment variable.\")\n",
        "            return\n",
        "        genai.configure(api_key=self.GOOGLE_API_KEY)\n",
        "        self.model = genai.GenerativeModel('gemini-pro')\n",
        "        self.chat = self.model.start_chat(history=[])\n",
        "\n",
        "    def get_random_rows(self):\n",
        "        return self.movies_df.sample(n=20)\n",
        "\n",
        "    def display_random_movies(self, random_10_rows):\n",
        "        movie_info_list = []\n",
        "        for index, row in random_10_rows.iterrows():\n",
        "          if row['Genre'] != 'Unknown':\n",
        "            movie_info = f\"{index + 1}. Movie: {row['Title']} ({row['Year']})\\nGenre: {row['Genre']}\\nSummary: {row['Summary']}\\n\"\n",
        "            movie_info_list.append(movie_info)\n",
        "        return '\\n'.join(movie_info_list)\n",
        "\n",
        "    def send_message(self, text):\n",
        "        print(text)\n",
        "\n",
        "    def genre_col(self):\n",
        "        # Define keywords for each genre\n",
        "        action_keywords = ['action', 'adventure', 'fight', 'battle']\n",
        "        romance_keywords = ['romance', 'love', 'relationship']\n",
        "        comedy_keywords = ['comedy', 'funny', 'humor']\n",
        "        drama_keywords = ['drama', 'emotional', 'heartfelt']\n",
        "        thriller_keywords = ['thriller', 'suspense', 'mystery', 'intense']\n",
        "\n",
        "        # Initialize 'Genre' column with 'Unknown'\n",
        "        self.movies_df['Genre'] = 'Unknown'\n",
        "\n",
        "        # Iterate through each row and update the 'Genre' column based on keywords in 'Summary'\n",
        "        for index, row in self.movies_df.iterrows():\n",
        "            summary = str(row['Summary']).lower()\n",
        "\n",
        "            if any(keyword in summary for keyword in action_keywords):\n",
        "                self.movies_df.at[index, 'Genre'] = 'Action'\n",
        "            elif any(keyword in summary for keyword in romance_keywords):\n",
        "                self.movies_df.at[index, 'Genre'] = 'Romance'\n",
        "            elif any(keyword in summary for keyword in comedy_keywords):\n",
        "                self.movies_df.at[index, 'Genre'] = 'Comedy'\n",
        "            elif any(keyword in summary for keyword in drama_keywords):\n",
        "                self.movies_df.at[index, 'Genre'] = 'Drama'\n",
        "            elif any(keyword in summary for keyword in thriller_keywords):\n",
        "                self.movies_df.at[index, 'Genre'] = 'Thriller'\n",
        "\n",
        "\n",
        "    def save_chat_history(self, messages):\n",
        "        # Initialize an empty list to store the chat history\n",
        "        chat_history_json = []\n",
        "\n",
        "        # Iterate over each message in the chat history\n",
        "        for message in messages:\n",
        "            # Create a dictionary representing the message\n",
        "            message_dict = {\n",
        "                \"role\": message[\"role\"],\n",
        "                \"text\": message[\"parts\"][0]\n",
        "            }\n",
        "            # Append the message dictionary to the chat history list\n",
        "            chat_history_json.append(message_dict)\n",
        "\n",
        "        # Convert the chat history list to JSON format\n",
        "        chat_history_json_str = json.dumps(chat_history_json)\n",
        "\n",
        "        # Write the JSON string to a file\n",
        "        with open('chat_history.json', 'w') as f:\n",
        "            f.write(chat_history_json_str)\n",
        "\n",
        "        # Download the file\n",
        "        from google.colab import files\n",
        "        files.download('chat_history.json')\n",
        "\n",
        "    # Function to display conversation messages with visual styling\n",
        "    def display_messages(self, messages):\n",
        "        bubble_style = \"\"\"\n",
        "        <style>\n",
        "            .message {\n",
        "                max-width: 60%;\n",
        "                margin: 5px;\n",
        "                padding: 10px;\n",
        "                border-radius: 20px;\n",
        "            }\n",
        "            .sender {\n",
        "                background-color: #007aff;\n",
        "                color: white;\n",
        "                margin-left: auto;\n",
        "                margin-right: 0;\n",
        "            }\n",
        "            .receiver {\n",
        "                background-color: #e5e5ea;\n",
        "                color: black;\n",
        "                margin-left: 0;\n",
        "                margin-right: auto;\n",
        "            }\n",
        "        </style>\n",
        "        \"\"\"\n",
        "\n",
        "        html_str = \"<div>\"\n",
        "\n",
        "        for msg in messages:\n",
        "            content = msg[\"parts\"][0][\"text\"].replace('**', '')\n",
        "            if msg[\"role\"] == \"user\":\n",
        "                bubble_class = \"sender\"\n",
        "            else:\n",
        "                bubble_class = \"receiver\"\n",
        "\n",
        "            html_str += f'<div class=\"message {bubble_class}\">{content}</div>'\n",
        "\n",
        "        html_str += \"</div>\"\n",
        "        html_str += bubble_style\n",
        "\n",
        "        display(HTML(html_str))\n",
        "\n",
        "\n",
        "\n",
        "    def main(self):\n",
        "        self.genre_col()\n",
        "        random_10_rows = self.get_random_rows()\n",
        "        data = self.display_random_movies(random_10_rows)\n",
        "        print(data)\n",
        "\n",
        "        # Initial system instructions\n",
        "        system_instructions = f\"\"\"\n",
        "        Please help me in recommending movies.\n",
        "        Those are the movies we know about\n",
        "\n",
        "        {data}\n",
        "\n",
        "        Critical instructions:\n",
        "        - Considering the themes, genres, and narratives of the movies listed above, please recommend movies that share similar qualities, you can only recommend movies that are in the above list.\n",
        "        - While recommending movies, make sure to be brief and to ask further questions to give the best recommendations\n",
        "\n",
        "        \"\"\"\n",
        "\n",
        "        while True:\n",
        "          messages = []\n",
        "          # Get user input\n",
        "          user_input = input(\"User: \")\n",
        "\n",
        "          # Prepare user message for display\n",
        "          user_message = {'role': 'user', 'parts': [{'text': user_input}]}\n",
        "          # Add user message to messages list for the model\n",
        "          messages.append({'role': 'user', 'parts': [{'text': system_instructions}, {'text': user_input}]})\n",
        "\n",
        "\n",
        "          # Display user message\n",
        "          self.display_messages([user_message])\n",
        "\n",
        "          # Check if the user wants to end the conversation\n",
        "          if user_input.lower() == 'thanks, bye':\n",
        "              print(\"Thank you for using our movie recommendation system. Have a great day!\")\n",
        "              break\n",
        "\n",
        "          # Generate model response\n",
        "          response = self.model.generate_content(messages)\n",
        "\n",
        "          # Check if the response is valid and contains parts\n",
        "          if response and hasattr(response, 'parts') and response.parts:\n",
        "              response_text = response.parts[0].text  # properly accessing the text attribute of the first Part object\n",
        "              model_message = {'role': 'assistant', 'parts': [{'text': response_text}]}\n",
        "              # Display model response\n",
        "              self.display_messages([model_message])\n",
        "          else:\n",
        "              print(\"Error: Model response is empty, invalid, or blocked. Please check safety ratings if available.\")\n",
        "              if hasattr(response, 'candidate') and hasattr(response.candidate, 'safety_ratings'):\n",
        "                  print(\"Safety Ratings:\", response.candidate.safety_ratings)\n",
        "              continue  # Skip to the next iteration of the loop\n",
        "\n",
        "          # Optionally save each pair of user and assistant messages if needed\n",
        "          self.save_chat_history(messages)\n"
      ],
      "metadata": {
        "id": "FIiOyIbdPH8J"
      },
      "execution_count": 49,
      "outputs": []
    },
    {
      "cell_type": "code",
      "source": [
        "if __name__ == \"__main__\":\n",
        "    ai = AI()\n",
        "    ai.main()\n"
      ],
      "metadata": {
        "colab": {
          "base_uri": "https://localhost:8080/",
          "height": 836
        },
        "id": "SXI1zgDLPdgp",
        "outputId": "8e9c6c06-b969-43c9-978b-9eb215616a6f"
      },
      "execution_count": 50,
      "outputs": [
        {
          "name": "stdout",
          "output_type": "stream",
          "text": [
            "2686. Movie: Anger Management (2003)\n",
            "Genre: Romance\n",
            "Summary: Mild-mannered timid businessman Dave Buznik works for a pet clothing company out of New York City. He's got an abrasive boss named Mr. Frank Head who frequently takes credit for his work and steps on him in return. He's got a loving girlfriend, Linda, whose best friend is her condescending college ex, Andrew. But when a misunderstanding aboard an airplane goes haywire, Dave is ordered by the court to undergo anger management therapy at the hands of specialist Dr. Buddy Rydell, who is an unpredictable, psychopathic character. As the relationship between Dave and Buddy becomes more tense, when the unorthodox treatment wreaks havoc Dave's life, and Buddy might be the only one who can save him from a problem he recognizes right away in his patient, that could only get worse.\n",
            "\n",
            "3395. Movie: Midnight Sun (2018)\n",
            "Genre: Romance\n",
            "Summary: Based on the Japanese film, Midnight Sun centers on Katie, a 17-year-old sheltered since childhood and confined to her house during the day by a rare disease that makes even the smallest amount of sunlight deadly. Fate intervenes when she meets Charlie and they embark on a summer romance.\n",
            "\n",
            "3772. Movie: Do You Trust this Computer? (2018)\n",
            "Genre: Action\n",
            "Summary: Science fiction has long anticipated the rise of machine intelligence. Today, a new generation of self-learning computers is reshaping every aspect of our lives. Incomprehensible amounts of data are being collected, interpreted, and fed back to us in a tsunami of apps, smart devices, and targeted advertisements. Virtually every industry on earth is feeling this transformation, from job automation to medical diagnostics, from elections to battlefield weapons. Do You Trust This Computer? explores the promises and perils of this developing era. Will A.I. usher in an age of unprecedented potential, or prove to be our final invention?\n",
            "\n",
            "1194. Movie: Total Recall (2012)\n",
            "Genre: Romance\n",
            "Summary: For a factory worker named Douglas Quaid, even though he's got a beautiful wife who he loves, the mind-trip sounds like the perfect vacation from his frustrating life - real memories of life as a super-spy might be just what he needs. But when the procedure goes horribly wrong, Quaid becomes a hunted man as he finds himself on the run from the police.\n",
            "\n",
            "2752. Movie: 500 Days of Summer (2009)\n",
            "Genre: Romance\n",
            "Summary: After it looks as if she's left his life for good this time, Tom Hansen reflects back on the just over one year that he knew Summer Finn. For Tom, it was love at first sight when she walked into the greeting card company where he worked, she the new administrative assistant. Soon, Tom knew that Summer was the woman with whom he wanted to spend the rest of his life. Although Summer did not believe in relationships or boyfriends - in her assertion, real life will always ultimately get in the way - Tom and Summer became more than just friends. Through the trials and tribulations of Tom and Summer's so-called relationship, Tom could always count on the advice of his two best friends, McKenzie and Paul. However, it is Tom's adolescent sister, Rachel, who is his voice of reason. After all is said and done, Tom is the one who ultimately has to make the choice to listen or not.\n",
            "\n",
            "User: romance movie?\n"
          ]
        },
        {
          "output_type": "display_data",
          "data": {
            "text/plain": [
              "<IPython.core.display.HTML object>"
            ],
            "text/html": [
              "<div><div class=\"message sender\">romance movie?</div></div>\n",
              "        <style>\n",
              "            .message {\n",
              "                max-width: 60%;\n",
              "                margin: 5px;\n",
              "                padding: 10px;\n",
              "                border-radius: 20px;\n",
              "            }\n",
              "            .sender {\n",
              "                background-color: #007aff;\n",
              "                color: white;\n",
              "                margin-left: auto;\n",
              "                margin-right: 0;\n",
              "            }\n",
              "            .receiver {\n",
              "                background-color: #e5e5ea;\n",
              "                color: black;\n",
              "                margin-left: 0;\n",
              "                margin-right: auto;\n",
              "            }\n",
              "        </style>\n",
              "        "
            ]
          },
          "metadata": {}
        },
        {
          "output_type": "display_data",
          "data": {
            "text/plain": [
              "<IPython.core.display.HTML object>"
            ],
            "text/html": [
              "<div><div class=\"message receiver\">* Anger Management (2003): This film explores the complexities of relationships and the challenges of dealing with anger in a healthy way.\n",
              "* Midnight Sun (2018): This film follows a young woman with a rare disease that makes it impossible for her to go outside during the day, and her forbidden romance with a boy.\n",
              "* Total Recall (2012): While this film is primarily an action movie, it also has a strong romantic subplot.\n",
              "* 500 Days of Summer (2009): This film is a bittersweet romantic comedy that follows the ups and downs of a relationship.\n",
              "\n",
              "Do you have any other preferences, such as a particular genre or theme?</div></div>\n",
              "        <style>\n",
              "            .message {\n",
              "                max-width: 60%;\n",
              "                margin: 5px;\n",
              "                padding: 10px;\n",
              "                border-radius: 20px;\n",
              "            }\n",
              "            .sender {\n",
              "                background-color: #007aff;\n",
              "                color: white;\n",
              "                margin-left: auto;\n",
              "                margin-right: 0;\n",
              "            }\n",
              "            .receiver {\n",
              "                background-color: #e5e5ea;\n",
              "                color: black;\n",
              "                margin-left: 0;\n",
              "                margin-right: auto;\n",
              "            }\n",
              "        </style>\n",
              "        "
            ]
          },
          "metadata": {}
        },
        {
          "output_type": "display_data",
          "data": {
            "text/plain": [
              "<IPython.core.display.Javascript object>"
            ],
            "application/javascript": [
              "\n",
              "    async function download(id, filename, size) {\n",
              "      if (!google.colab.kernel.accessAllowed) {\n",
              "        return;\n",
              "      }\n",
              "      const div = document.createElement('div');\n",
              "      const label = document.createElement('label');\n",
              "      label.textContent = `Downloading \"${filename}\": `;\n",
              "      div.appendChild(label);\n",
              "      const progress = document.createElement('progress');\n",
              "      progress.max = size;\n",
              "      div.appendChild(progress);\n",
              "      document.body.appendChild(div);\n",
              "\n",
              "      const buffers = [];\n",
              "      let downloaded = 0;\n",
              "\n",
              "      const channel = await google.colab.kernel.comms.open(id);\n",
              "      // Send a message to notify the kernel that we're ready.\n",
              "      channel.send({})\n",
              "\n",
              "      for await (const message of channel.messages) {\n",
              "        // Send a message to notify the kernel that we're ready.\n",
              "        channel.send({})\n",
              "        if (message.buffers) {\n",
              "          for (const buffer of message.buffers) {\n",
              "            buffers.push(buffer);\n",
              "            downloaded += buffer.byteLength;\n",
              "            progress.value = downloaded;\n",
              "          }\n",
              "        }\n",
              "      }\n",
              "      const blob = new Blob(buffers, {type: 'application/binary'});\n",
              "      const a = document.createElement('a');\n",
              "      a.href = window.URL.createObjectURL(blob);\n",
              "      a.download = filename;\n",
              "      div.appendChild(a);\n",
              "      a.click();\n",
              "      div.remove();\n",
              "    }\n",
              "  "
            ]
          },
          "metadata": {}
        },
        {
          "output_type": "display_data",
          "data": {
            "text/plain": [
              "<IPython.core.display.Javascript object>"
            ],
            "application/javascript": [
              "download(\"download_9bb5b8f4-55c9-4e89-b748-71fecf2b7947\", \"chat_history.json\", 3789)"
            ]
          },
          "metadata": {}
        },
        {
          "name": "stdout",
          "output_type": "stream",
          "text": [
            "User: action?\n"
          ]
        },
        {
          "output_type": "display_data",
          "data": {
            "text/plain": [
              "<IPython.core.display.HTML object>"
            ],
            "text/html": [
              "<div><div class=\"message sender\">action?</div></div>\n",
              "        <style>\n",
              "            .message {\n",
              "                max-width: 60%;\n",
              "                margin: 5px;\n",
              "                padding: 10px;\n",
              "                border-radius: 20px;\n",
              "            }\n",
              "            .sender {\n",
              "                background-color: #007aff;\n",
              "                color: white;\n",
              "                margin-left: auto;\n",
              "                margin-right: 0;\n",
              "            }\n",
              "            .receiver {\n",
              "                background-color: #e5e5ea;\n",
              "                color: black;\n",
              "                margin-left: 0;\n",
              "                margin-right: auto;\n",
              "            }\n",
              "        </style>\n",
              "        "
            ]
          },
          "metadata": {}
        },
        {
          "output_type": "display_data",
          "data": {
            "text/plain": [
              "<IPython.core.display.HTML object>"
            ],
            "text/html": [
              "<div><div class=\"message receiver\">Based on your preferences, I would recommend the following movie from the list you provided:\n",
              "\n",
              "- Do You Trust This Computer? (2018): This action-packed documentary explores the potential and dangers of artificial intelligence, a relevant and thought-provoking topic.\n",
              "\n",
              "If you have any specific preferences or would like further recommendations, such as for a specific genre or theme, please let me know. I'll be happy to assist you in finding the perfect movie.</div></div>\n",
              "        <style>\n",
              "            .message {\n",
              "                max-width: 60%;\n",
              "                margin: 5px;\n",
              "                padding: 10px;\n",
              "                border-radius: 20px;\n",
              "            }\n",
              "            .sender {\n",
              "                background-color: #007aff;\n",
              "                color: white;\n",
              "                margin-left: auto;\n",
              "                margin-right: 0;\n",
              "            }\n",
              "            .receiver {\n",
              "                background-color: #e5e5ea;\n",
              "                color: black;\n",
              "                margin-left: 0;\n",
              "                margin-right: auto;\n",
              "            }\n",
              "        </style>\n",
              "        "
            ]
          },
          "metadata": {}
        },
        {
          "output_type": "display_data",
          "data": {
            "text/plain": [
              "<IPython.core.display.Javascript object>"
            ],
            "application/javascript": [
              "\n",
              "    async function download(id, filename, size) {\n",
              "      if (!google.colab.kernel.accessAllowed) {\n",
              "        return;\n",
              "      }\n",
              "      const div = document.createElement('div');\n",
              "      const label = document.createElement('label');\n",
              "      label.textContent = `Downloading \"${filename}\": `;\n",
              "      div.appendChild(label);\n",
              "      const progress = document.createElement('progress');\n",
              "      progress.max = size;\n",
              "      div.appendChild(progress);\n",
              "      document.body.appendChild(div);\n",
              "\n",
              "      const buffers = [];\n",
              "      let downloaded = 0;\n",
              "\n",
              "      const channel = await google.colab.kernel.comms.open(id);\n",
              "      // Send a message to notify the kernel that we're ready.\n",
              "      channel.send({})\n",
              "\n",
              "      for await (const message of channel.messages) {\n",
              "        // Send a message to notify the kernel that we're ready.\n",
              "        channel.send({})\n",
              "        if (message.buffers) {\n",
              "          for (const buffer of message.buffers) {\n",
              "            buffers.push(buffer);\n",
              "            downloaded += buffer.byteLength;\n",
              "            progress.value = downloaded;\n",
              "          }\n",
              "        }\n",
              "      }\n",
              "      const blob = new Blob(buffers, {type: 'application/binary'});\n",
              "      const a = document.createElement('a');\n",
              "      a.href = window.URL.createObjectURL(blob);\n",
              "      a.download = filename;\n",
              "      div.appendChild(a);\n",
              "      a.click();\n",
              "      div.remove();\n",
              "    }\n",
              "  "
            ]
          },
          "metadata": {}
        },
        {
          "output_type": "display_data",
          "data": {
            "text/plain": [
              "<IPython.core.display.Javascript object>"
            ],
            "application/javascript": [
              "download(\"download_c9d52030-c121-40a8-9981-4c86caf7b25d\", \"chat_history.json\", 3789)"
            ]
          },
          "metadata": {}
        },
        {
          "name": "stdout",
          "output_type": "stream",
          "text": [
            "User: thanks, bye\n"
          ]
        },
        {
          "output_type": "display_data",
          "data": {
            "text/plain": [
              "<IPython.core.display.HTML object>"
            ],
            "text/html": [
              "<div><div class=\"message sender\">thanks, bye</div></div>\n",
              "        <style>\n",
              "            .message {\n",
              "                max-width: 60%;\n",
              "                margin: 5px;\n",
              "                padding: 10px;\n",
              "                border-radius: 20px;\n",
              "            }\n",
              "            .sender {\n",
              "                background-color: #007aff;\n",
              "                color: white;\n",
              "                margin-left: auto;\n",
              "                margin-right: 0;\n",
              "            }\n",
              "            .receiver {\n",
              "                background-color: #e5e5ea;\n",
              "                color: black;\n",
              "                margin-left: 0;\n",
              "                margin-right: auto;\n",
              "            }\n",
              "        </style>\n",
              "        "
            ]
          },
          "metadata": {}
        },
        {
          "output_type": "stream",
          "name": "stdout",
          "text": [
            "Thank you for using our movie recommendation system. Have a great day!\n"
          ]
        }
      ]
    }
  ]
}