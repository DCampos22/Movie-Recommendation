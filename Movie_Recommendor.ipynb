{
  "nbformat": 4,
  "nbformat_minor": 0,
  "metadata": {
    "colab": {
      "provenance": [],
      "gpuType": "T4",
      "authorship_tag": "ABX9TyOTTUtI9HflqElDDEQGwPE9",
      "include_colab_link": true
    },
    "kernelspec": {
      "name": "python3",
      "display_name": "Python 3"
    },
    "language_info": {
      "name": "python"
    },
    "accelerator": "GPU"
  },
  "cells": [
    {
      "cell_type": "markdown",
      "metadata": {
        "id": "view-in-github",
        "colab_type": "text"
      },
      "source": [
        "<a href=\"https://colab.research.google.com/github/DCampos22/Movie-Recommendation/blob/main/Movie_Recommendor.ipynb\" target=\"_parent\"><img src=\"https://colab.research.google.com/assets/colab-badge.svg\" alt=\"Open In Colab\"/></a>"
      ]
    },
    {
      "cell_type": "code",
      "execution_count": 1,
      "metadata": {
        "id": "HgSQ3tD-fXxo"
      },
      "outputs": [],
      "source": [
        "import pandas as pd\n",
        "import json\n",
        "import os\n",
        "import random\n",
        "import google.generativeai as genai\n",
        "from IPython.display import display, HTML, Markdown\n",
        "from google.colab import userdata\n",
        "from typing import List\n",
        "from dataclasses import dataclass"
      ]
    },
    {
      "cell_type": "code",
      "source": [
        "class Message:\n",
        "    def __init__(self, sender: str = None, content: List[str] = None):\n",
        "        self.sender = sender\n",
        "        self.content = content\n",
        "\n",
        "    def to_dict(self):\n",
        "        return {\n",
        "            \"sender\": self.sender,\n",
        "            \"content\": self.content\n",
        "        }\n",
        "\n",
        "    @classmethod\n",
        "    def from_dict(cls, data):\n",
        "        return cls(sender=data.get('sender'),\n",
        "                   content=data.get('content'))"
      ],
      "metadata": {
        "id": "C_YSJmzCgqjF"
      },
      "execution_count": 2,
      "outputs": []
    },
    {
      "cell_type": "code",
      "source": [
        "class AI:\n",
        "    def __init__(self):\n",
        "        self.movies_df = pd.read_csv('/content/archive (2) (2).zip')\n",
        "        self.GOOGLE_API_KEY = userdata.get('GOOGLE_API_KEY')\n",
        "        if self.GOOGLE_API_KEY is None:\n",
        "            print(\"Error: API key not found. Please set the GOOGLE_API_KEY environment variable.\")\n",
        "            return\n",
        "        genai.configure(api_key=self.GOOGLE_API_KEY)\n",
        "        self.model = genai.GenerativeModel('gemini-pro')\n",
        "        self.chat = self.model.start_chat(history=[])\n",
        "\n",
        "    def get_random_rows(self):\n",
        "        return self.movies_df.sample(n=10)\n",
        "\n",
        "    def display_random_movies(self, random_10_rows):\n",
        "        movie_info_list = []\n",
        "        for index, row in random_10_rows.iterrows():\n",
        "            movie_info = f\"{index + 1}. Movie: {row['Title']} ({row['Year']})\\nSummary: {row['Summary']}\\n\"\n",
        "            movie_info_list.append(movie_info)\n",
        "        return '\\n'.join(movie_info_list)\n",
        "\n",
        "    def send_message(self, text):\n",
        "        print(text)\n",
        "\n",
        "    def main(self):\n",
        "        random_10_rows = self.get_random_rows()\n",
        "        data = self.display_random_movies(random_10_rows)\n",
        "        print(data)\n",
        "\n",
        "        # Initial system instructions\n",
        "        system_instructions = f\"\"\"\n",
        "        Please help me in recommending movies.\n",
        "        Those are the movies we know about\n",
        "\n",
        "        {data}\n",
        "\n",
        "        Critical instructions:\n",
        "        - Considering the themes, genres, and narratives of the movies listed above, please recommend movies that share similar qualities, you can only recommend movies that are in the above list.\n",
        "        - Only showcase the most recent movies, everything over 2018\n",
        "        \"\"\"\n",
        "\n",
        "        # Start the conversation loop\n",
        "        while True:\n",
        "            messages = []\n",
        "            # Add user message to the list of messages\n",
        "            user_input = input(\"User: \")\n",
        "            messages.append({'role': 'user', 'parts': [{'text': system_instructions}, {'text': user_input}]})\n",
        "\n",
        "            # Generate model response\n",
        "            response = self.model.generate_content(messages)\n",
        "\n",
        "            # Add model response to the list of messages\n",
        "            messages.append({'role': 'assistant', 'parts': [{'text': response.text}]})\n",
        "\n",
        "            # Display model response\n",
        "            self.send_message(response.text)\n",
        "\n",
        "            # Check if the user wants to end the conversation\n",
        "            if user_input.lower() == 'bye':\n",
        "                break\n",
        "            # Convert chat history to JSON format\n",
        ""
      ],
      "metadata": {
        "id": "ooyGzKd_fngJ"
      },
      "execution_count": 10,
      "outputs": []
    },
    {
      "cell_type": "code",
      "source": [
        "if __name__ == \"__main__\":\n",
        "    ai = AI()\n",
        "    ai.main()\n",
        "\n",
        ""
      ],
      "metadata": {
        "colab": {
          "base_uri": "https://localhost:8080/",
          "height": 766
        },
        "id": "0H_J02KCgwca",
        "outputId": "19ca9963-d763-4888-8ca8-9fe65dd39eec"
      },
      "execution_count": 11,
      "outputs": [
        {
          "output_type": "stream",
          "name": "stdout",
          "text": [
            "1601. Movie: Stranger Than Fiction (2006)\n",
            "Summary: Everybody knows that your life is a story. But what if a story was your life? Harold Crick is your average IRS agent: monotonous, boring, and repetitive. But one day this all changes when Harold begins to hear an author inside his head narrating his life. The narrator it is extraordinarily accurate, and Harold recognizes the voice as an esteemed author he saw on TV. But when the narration reveals that he is going to die, Harold must find the author of the story, and ultimately his life, to convince her to change the ending of the story before it is too late.\n",
            "\n",
            "3693. Movie: Vampire Clay (2017)\n",
            "Summary: A plasticine demon devours the denizens of a rural art school.\n",
            "\n",
            "3815. Movie: Elle (2016)\n",
            "Summary: Michèle seems indestructible. Head of a successful video game company, she brings the same ruthless attitude to her love life as to business. Being attacked in her home by an unknown assailant changes Michèle's life forever. When she resolutely tracks the man down, they are both drawn into a curious and thrilling game-a game that may, at any moment, spiral out of control.\n",
            "\n",
            "1462. Movie: The Expendables (2010)\n",
            "Summary: Barney Ross leads the \"Expendables\", a band of highly skilled mercenaries including knife enthusiast Lee Christmas, martial arts expert Yin Yang, heavy weapons specialist Hale Caesar, demolitionist Toll Road and loose-cannon sniper Gunner Jensen. When the group is commissioned by the mysterious Mr. Church to assassinate the merciless dictator of a small South American island, Barney and Lee head to the remote locale to scout out their opposition. Once there, they meet with local rebel Sandra and discover the true nature of the conflict engulfing the city. When they escape the island and Sandra stays behind, Ross must choose to either walk away and save his own life - or attempt a suicidal rescue mission that might just save his soul.\n",
            "\n",
            "190. Movie: Menashe (2017)\n",
            "Summary: Menashe, a widower, lives and works within the Hasidic community of Borough Park, Brooklyn. Since his wife passed away a year before, he has been trying hard to regain custody of his nine-year-old son, Rieven. But the rabbi (and all the community behind him) will not hear of it unless he re-marries, which Menashe does not want, his first marriage having been very unhappy. Father and son get on well together, but can Menashe take care of Rieven properly? Not really for all his goodwill as he holds down a low-paid job as a grocery clerk that consumes too much of his efforts and energy. Always late, always in a hurry, he endeavors to improve himself though. But will his efforts be enough to convince the rabbi that he can be a good father without a wife at home?\n",
            "\n",
            "3321. Movie: Hangman (2017)\n",
            "Summary: Decorated homicide detective Ray Archer (Al Pacino) and his partner, criminal profiler Will Ruiney, (Karl Urban) are tasked to catch one of the city's notoriously vicious serial killers who is playing a twisted version of murder using the child's game - HANGMAN, while crime journalist Christi Davies (Brittany Snow) reports on the crime spree, shadowing the detectives.\n",
            "\n",
            "1759. Movie: Revolutionary Road (2008)\n",
            "Summary: It's 1955. Frank and April Wheeler, in the seventh year of their marriage, have fallen into a life that appears to most as being perfect. They live in the Connecticut suburbs with two young children. Frank commutes to New York City where he works in an office job while April stays at home as a housewife. But they're not happy. April has forgone her dream of becoming an actress, and Frank hates his job - one where he places little effort - although he has never figured out what his passion in life is. One day, April suggests that they move to Paris - a city where Frank visited during the war and loved, but where April has never been - as a means to rejuvenate their life. April's plan: she would be the breadwinner, getting a lucrative secretarial job for one of the major international organizations, while Frank would have free time to find himself and whatever his passion. Initially skeptical, Frank ultimately agrees to April's plan. When circumstances change around the Wheelers, April ...\n",
            "\n",
            "2881. Movie: Geostorm (2017)\n",
            "Summary: When catastrophic climate change endangers Earth's very survival, world governments unite and create the Dutch Boy Program: a world wide net of satellites, surrounding the planet, that are armed with geoengineering technologies designed to stave off the natural disasters. After successfully protecting the planet for three years, something is starting to go wrong. Two estranged brothers are tasked with solving the program's malfunction before a world wide Geostorm can engulf the planet.\n",
            "\n",
            "97. Movie: The Monkey King 2 (2016)\n",
            "Summary: When a travelling monk is stranded in a wasteland, The Monkey King must escort him across the land to retrieve sacred scriptures and protect him from an evil demon.\n",
            "\n",
            "2401. Movie: Drinking Buddies (2013)\n",
            "Summary: Luke and Kate are co-workers at a Chicago brewery, where they spend their days drinking and flirting. They're perfect for each other, except that they're both in relationships. Luke is in the midst of marriage talks with his girlfriend of six years, Kate is playing it cool with her music producer boyfriend Chris. But you know what makes the line between \"friends\" and \"more than friends\" really blurry? Beer.\n",
            "\n",
            "User: recommend any love film?\n",
            "Based on the provided list of movies, the most recent love film is:\n",
            "\n",
            "* Elle (2016) - A psychological thriller about a woman who seeks revenge on her attacker.\n",
            "User: bye\n",
            "Based on the movies provided, the most recent movie that shares similar qualities is:\n",
            "\n",
            "**3321. Hangman (2017)**\n",
            "\n",
            "- **Similar Themes:** Serial killer, crime, investigation\n",
            "- **Similar Genres:** Crime, thriller, mystery\n",
            "- **Similar Narratives:** A detective investigates a series of murders committed by a twisted serial killer\n"
          ]
        }
      ]
    }
  ]
}